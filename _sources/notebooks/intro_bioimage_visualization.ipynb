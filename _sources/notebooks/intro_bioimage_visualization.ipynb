{
 "cells": [
  {
   "cell_type": "markdown",
   "id": "b9502998",
   "metadata": {},
   "source": [
    "# notebook: bioimage visualization in python\n",
    "Python has a rich selection of [data visualization](https://pyviz.org/index.html) tools that cover wide range of applications, for example\n",
    "Matplotlib (Hunter, 2007), Mayavi (Ramachandran & Varoquaux, 2011), [ipyvolume](https://github.com/maartenbreddels/ipyvolume/), the yt Project\n",
    "(Turk et al., 2010), [ITK](https://itk.org/) (Johnson, McCormick, Ibanez 2015), and more recently **[napari](http://napari.org)**.\n",
    "\n",
    "For **bioimage visualization** some major challenges are: \n",
    "- working with large and complex images: image size and dimensionality\n",
    "- manual interactivity: for human in the loop annotation\n",
    "- interactive analysis: for interactive parameter tuning and quality control\n",
    "\n",
    "This notebook will introduce `napari` a fast, interactive, multi-dimensional image viewer for Python.\n",
    "\n",
    "## Introducing napari \n",
    "\n",
    "```{image} ./resources/napari-logo.png\n",
    ":alt: napari layer types\n",
    ":width: 20%\n",
    ":align: center\n",
    "```\n",
    "\n",
    "`napari` is a fast, interactive, multi-dimensional image viewer for Python. It’s designed for browsing, annotating, and analyzing large multi-dimensional images. It’s built on top of Qt (for the GUI), vispy (for performant GPU-based rendering), and the scientific Python stack (numpy, scipy).\n",
    "\n",
    "`napari` includes critical viewer features out-of-the-box, such as support for large multi-dimensional data, layering, and annotation. By integrating closely with the scientific Python ecosystem, napari can be easily coupled to leading machine learning and image analysis tools (e.g. scikit-image, scikit-learn, PyTorch), enabling more user-friendly automated analysis.\n",
    "\n",
    "```{image} ./resources/napari-layer-types.png\n",
    ":alt: napari layer types\n",
    ":width: 20%\n",
    ":align: center\n",
    "```\n",
    "\n",
    "`napari` supports seven different layer types, **Image**, **Labels**, **Points**, **Vectors**, **Shapes**, **Surface** and **Tracks**. Each layer corresponds to a different data type and has it's own set of visualizations and interactive controls. We provide an [associated tutorial](https://napari.org/tutorials/index.html) for each layer type to help you get started! \n",
    "\n",
    "You can add multiple layers of different types into the viewer and work with them, adjusting their properties and performing analysis.\n",
    "\n",
    "`napari` also supports bidirectional communication between the viewer and the Python kernel, which is especially useful when launching from jupyter notebooks or when using our built-in console. Using the console allows you to interactively load and save data from the viewer and control all the features of the viewer programmatically.\n",
    "\n",
    "You can (and are encouraged to!) extend `napari` using custom [key bindings](https://napari.org/guides/stable/connecting_events.html#listening-for-keypress-events), [mouse functions](https://napari.org/guides/stable/connecting_events.html#listening-for-mouse-events), and our new [**plugin-interface**](https://napari.org/plugins/stable/for_plugin_developers.html).\n",
    "\n",
    "Learn more about napari at [napari.org](https://napari.org/), including our [tutorials](https://napari.org/tutorials/), our [documentation](https://napari.org/docs/) and our [mission and values](https://napari.org/docs/developers/MISSION_AND_VALUES.html).\n",
    "\n",
    "## Visualizing data with napari\n",
    "\n",
    "Let's start by importing napari and creating an empty [napari viewer](https://napari.org/tutorials/fundamentals/viewer.html)"
   ]
  },
  {
   "cell_type": "code",
   "execution_count": 1,
   "id": "84de14a9",
   "metadata": {
    "tags": [
     "hide-output"
    ]
   },
   "outputs": [
    {
     "ename": "ModuleNotFoundError",
     "evalue": "No module named 'napari'",
     "output_type": "error",
     "traceback": [
      "\u001b[0;31m---------------------------------------------------------------------------\u001b[0m",
      "\u001b[0;31mModuleNotFoundError\u001b[0m                       Traceback (most recent call last)",
      "\u001b[0;32m/tmp/ipykernel_1755/911341563.py\u001b[0m in \u001b[0;36m<module>\u001b[0;34m\u001b[0m\n\u001b[0;32m----> 1\u001b[0;31m \u001b[0;32mimport\u001b[0m \u001b[0mnapari\u001b[0m\u001b[0;34m\u001b[0m\u001b[0;34m\u001b[0m\u001b[0m\n\u001b[0m\u001b[1;32m      2\u001b[0m \u001b[0mviewer\u001b[0m \u001b[0;34m=\u001b[0m \u001b[0mnapari\u001b[0m\u001b[0;34m.\u001b[0m\u001b[0mViewer\u001b[0m\u001b[0;34m(\u001b[0m\u001b[0;34m)\u001b[0m\u001b[0;34m\u001b[0m\u001b[0;34m\u001b[0m\u001b[0m\n",
      "\u001b[0;31mModuleNotFoundError\u001b[0m: No module named 'napari'"
     ]
    }
   ],
   "source": [
    "import napari\n",
    "viewer = napari.Viewer()"
   ]
  },
  {
   "cell_type": "markdown",
   "id": "fecf7105",
   "metadata": {},
   "source": [
    "Hopfully when you ran the above command a new empty napari viewer appeared in a seperate window.\n",
    "\n",
    "Unlike other jupyter widgets, napari is not embedded inside the jupyter notebook. This is because the graphical parts of napari are written in [Qt](https://www.qt.io/), making it hard to embed on the web.\n",
    "\n",
    "Instead, we can take a screenshot of the current state of napari viewer and embed that in the notebook. This can be useful for teaching or sharing purposes where you might want to share key steps in an analysis which makes use of interactive components.\n",
    "\n",
    "To do this, we use the `nbscreenshot` utility function"
   ]
  },
  {
   "cell_type": "code",
   "execution_count": null,
   "id": "3bac52d3",
   "metadata": {},
   "outputs": [],
   "source": [
    "from napari.utils import nbscreenshot\n",
    "\n",
    "nbscreenshot(viewer)"
   ]
  },
  {
   "cell_type": "markdown",
   "id": "bdf76aaa",
   "metadata": {},
   "source": [
    "```{note}\n",
    "Unfortunately, in contrast with the real napari viewer, these screenshots won't be interactive!\n",
    "```\n",
    "\n",
    "### Seeing our first image\n",
    "\n",
    "There are a few different ways to load images to into our `viewer`.\n",
    "\n",
    "- By `dragging and dropping` image files onto the viewer\n",
    "- By selection image files from the `Open File(s)` menu option\n",
    "- Using the `viewer.open` command with a file path from within the notebook\n",
    "- Loading the image data into an array and then passing that array using the `viewer.add_image` command\n",
    "\n",
    "For the first three options the file path will get passed through our fileIO plugin interface, allowing you to easily leverage highly customized fileIO plugins for your diverse needs. The fourth option allows you complete control over loading and visualization and is most suited for when you have data already loaded into your notebook from other sources.\n",
    "\n",
    "Here we will explore the fourth option, explicitly loading a 3D image using the `tifffile` library and the `add_image()` method of our `Viewer` object."
   ]
  },
  {
   "cell_type": "code",
   "execution_count": null,
   "id": "e2f47aa3",
   "metadata": {},
   "outputs": [],
   "source": [
    "from tifffile import imread\n",
    "\n",
    "# load the image data and inspect its shape\n",
    "nuclei = imread('data/nuclei.tif')\n",
    "print(nuclei.shape)"
   ]
  },
  {
   "cell_type": "markdown",
   "id": "02097d79",
   "metadata": {},
   "source": [
    "Now that we have the data array loaded, we can directly add it to the viewer."
   ]
  },
  {
   "cell_type": "code",
   "execution_count": null,
   "id": "e2421167",
   "metadata": {
    "tags": [
     "remove-output"
    ]
   },
   "outputs": [],
   "source": [
    "## directly adding image data to the napari viewer\n",
    "viewer.add_image(nuclei)"
   ]
  },
  {
   "cell_type": "markdown",
   "id": "7a424b3f",
   "metadata": {},
   "source": [
    "Don't forget to change windows so you can now see the viewer. By default you'll just be looking at the 1st plane of the 3D data, which is the 0th slice of 60. You should see a single slider at the buttom of the viewer that will allow you to scroll through the rest of the z-stack. If you find the 30th slice then you should see the same as in the screenshot below."
   ]
  },
  {
   "cell_type": "code",
   "execution_count": null,
   "id": "4e2c001c",
   "metadata": {
    "tags": [
     "remove-cell"
    ]
   },
   "outputs": [],
   "source": [
    "viewer.dims.current_step = (30, 0, 0)"
   ]
  },
  {
   "cell_type": "code",
   "execution_count": null,
   "id": "d254bd9c",
   "metadata": {},
   "outputs": [],
   "source": [
    "nbscreenshot(viewer)"
   ]
  },
  {
   "cell_type": "markdown",
   "id": "a3a957e0",
   "metadata": {},
   "source": [
    "In the top left hand corner of the viewer we now have a control panel with controls that cover all our layers, and those that are specific to images like contrast limits and colormap.\n",
    "\n",
    "### Color channels and blending\n",
    "Right clicking on the **contrast limits** slider pulls up an elongated version of the slider which you can type specific numbers into. Let's give that a try to adjust the contrast limits to `[0.07, 0.35]`, and let's change the colormap to `blue` using the drop down menu."
   ]
  },
  {
   "cell_type": "code",
   "execution_count": null,
   "id": "4c66a76e",
   "metadata": {
    "tags": [
     "remove-cell"
    ]
   },
   "outputs": [],
   "source": [
    "layer = viewer.layers[0]\n",
    "layer.contrast_limits = [0.07, 0.35]\n",
    "layer.colormap = 'blue'"
   ]
  },
  {
   "cell_type": "code",
   "execution_count": null,
   "id": "f453dc39",
   "metadata": {},
   "outputs": [],
   "source": [
    "nbscreenshot(viewer)"
   ]
  },
  {
   "cell_type": "markdown",
   "id": "2cf08bcf",
   "metadata": {},
   "source": [
    "One of the real strengths of napari is that you have full control over all the critical layer properties both programmatically and via the GUI.\n",
    "\n",
    "Each `layer` that is added to the `viewer` can be found in the `viewer.layers` list which can be indexed either numerically or by the layer name, which is visible in the panel in the bottom left of the viewer. This layer has the name `nuclei`, which was automatically imputed because we originally named the variable we loaded from disk `nuclei`. Pretty cool!"
   ]
  },
  {
   "cell_type": "code",
   "execution_count": null,
   "id": "198af50f",
   "metadata": {},
   "outputs": [],
   "source": [
    "# let's see what the layers list has in it right now\n",
    "print(viewer.layers)"
   ]
  },
  {
   "cell_type": "code",
   "execution_count": null,
   "id": "dc19bc22",
   "metadata": {},
   "outputs": [],
   "source": [
    "nuclei_layer = viewer.layers['nuclei']\n",
    "first_layer = viewer.layers[0]\n",
    "print(nuclei_layer, first_layer)"
   ]
  },
  {
   "cell_type": "markdown",
   "id": "cf0f0366",
   "metadata": {},
   "source": [
    "If we go in and get the `nuclei` layer from our layer list we can now see and edit the values of some of the properties that we can control in the GUI."
   ]
  },
  {
   "cell_type": "code",
   "execution_count": null,
   "id": "d3a021a9",
   "metadata": {},
   "outputs": [],
   "source": [
    "# let's look at the values of some of the properties on the `nuclei` layer\n",
    "print('Colormap: ', viewer.layers['nuclei'].colormap)\n",
    "print('Contrast limits: ', viewer.layers['nuclei'].contrast_limits)\n",
    "print('Opacity: ', viewer.layers['nuclei'].opacity)"
   ]
  },
  {
   "cell_type": "code",
   "execution_count": null,
   "id": "b6568095",
   "metadata": {},
   "outputs": [],
   "source": [
    "# Now let's change some of them. Note that the viewer GUI will update in real time as you run this code in the notebook\n",
    "viewer.layers['nuclei'].colormap = 'red'\n",
    "viewer.layers['nuclei'].contrast_limits = [0.4, 0.6]\n",
    "viewer.layers['nuclei'].opacity = 0.9\n",
    "\n",
    "# We can even rename the layer, but note that from now on you'll need to refer to if with its new name\n",
    "viewer.layers['nuclei'].name = 'division'"
   ]
  },
  {
   "cell_type": "code",
   "execution_count": null,
   "id": "4daa9efb",
   "metadata": {},
   "outputs": [],
   "source": [
    "nbscreenshot(viewer)"
   ]
  },
  {
   "cell_type": "markdown",
   "id": "03ead9d9",
   "metadata": {},
   "source": [
    "We could have actually passed these parameters as key-word arguments to during the first `add_image` call. For example we can add another copy of the data as follows:"
   ]
  },
  {
   "cell_type": "code",
   "execution_count": null,
   "id": "71cb62df",
   "metadata": {
    "tags": [
     "remove-output"
    ]
   },
   "outputs": [],
   "source": [
    "viewer.add_image(nuclei, contrast_limits=[0.07, 0.35], colormap='blue', blending='additive')"
   ]
  },
  {
   "cell_type": "markdown",
   "id": "2d2a46b4",
   "metadata": {},
   "source": [
    "Setting the `blending` of the second layer to `additive` now lets us see both together, which could be useful for understanding how parts of the image relate to each other."
   ]
  },
  {
   "cell_type": "code",
   "execution_count": null,
   "id": "db337de5",
   "metadata": {},
   "outputs": [],
   "source": [
    "nbscreenshot(viewer)"
   ]
  },
  {
   "cell_type": "markdown",
   "id": "6fb928e9",
   "metadata": {},
   "source": [
    "Let's now load in an additional channel of data containting a stain for cell membranes and add them to the viewer as a new layer."
   ]
  },
  {
   "cell_type": "code",
   "execution_count": null,
   "id": "4165511a",
   "metadata": {},
   "outputs": [],
   "source": [
    "from tifffile import imread\n",
    "\n",
    "# load the image data and inspect its shape\n",
    "membranes = imread('data/cell_membranes.tif')\n",
    "print(membranes.shape)"
   ]
  },
  {
   "cell_type": "code",
   "execution_count": null,
   "id": "d82c3eec",
   "metadata": {},
   "outputs": [],
   "source": [
    "viewer.add_image(membranes, contrast_limits=[0.02, 0.2], colormap='green', blending='additive');"
   ]
  },
  {
   "cell_type": "code",
   "execution_count": null,
   "id": "a073a16c",
   "metadata": {},
   "outputs": [],
   "source": [
    "nbscreenshot(viewer)"
   ]
  },
  {
   "cell_type": "markdown",
   "id": "9c647b9d",
   "metadata": {},
   "source": [
    "### Orthogonal slicing and 3D rendering\n",
    "So far we've only looked at one slice. Use the slider at the bottom of the viewer to scroll through to another slice and see what the image looks like. For example the 45th slice looks like:"
   ]
  },
  {
   "cell_type": "code",
   "execution_count": null,
   "id": "0078cee1",
   "metadata": {
    "tags": [
     "remove-cell"
    ]
   },
   "outputs": [],
   "source": [
    "viewer.dims.current_step = (45, 0, 0)"
   ]
  },
  {
   "cell_type": "code",
   "execution_count": null,
   "id": "93936a02",
   "metadata": {},
   "outputs": [],
   "source": [
    "nbscreenshot(viewer)"
   ]
  },
  {
   "cell_type": "markdown",
   "id": "0c02a1aa",
   "metadata": {},
   "source": [
    "As this is a 3D volume, we can also use napari to look at 2D slices along other axes. If we click the `roll dimensions` button in the bottom left hand corner of the viewer (which looks like a 3D cube with an arrow, 3rd from the left), and then scrolling through to the 60th slice gives the following:"
   ]
  },
  {
   "cell_type": "code",
   "execution_count": null,
   "id": "1ad2913b",
   "metadata": {
    "tags": [
     "remove-cell"
    ]
   },
   "outputs": [],
   "source": [
    "viewer.layers['membranes'].contrast_limits = (0, 0.75)\n",
    "viewer.layers['nuclei'].contrast_limits = (0, 0.35)\n",
    "viewer.layers['division'].contrast_limits = (0, 1)\n",
    "viewer.dims.order = (2, 0, 1)\n",
    "viewer.dims.current_step = (25, 0, 60)"
   ]
  },
  {
   "cell_type": "code",
   "execution_count": null,
   "id": "f5f2e9f1",
   "metadata": {},
   "outputs": [],
   "source": [
    "nbscreenshot(viewer)"
   ]
  },
  {
   "cell_type": "markdown",
   "id": "280f2130",
   "metadata": {},
   "source": [
    "In addition to doing 2D rendering, napari can also do full 3D rendering. To enable 3D mode click on the 3D rendering button (which looks like a wireframe of a cube, second from the left). Now the slider has disappeared as the full 3D volume is being rendered at the same time. If the original dataset had been 4D, say for a volumteric timeseries then when using 2D rendering we would have initially seen two sliders, one for Z and one for Time, and 3D rendering would have switched us to only seeing one slider, for Time. In this way napari can be used to visualize either 2D or 3D slices of full n-Dimensional data with multiple color channels.\n",
    "\n",
    "Try playing around with some of the 3D rendering modes and parameters in the gui to get a nice 3D visualization."
   ]
  },
  {
   "cell_type": "code",
   "execution_count": null,
   "id": "7e52bbb6",
   "metadata": {
    "tags": [
     "remove-cell"
    ]
   },
   "outputs": [],
   "source": [
    "viewer.dims.ndisplay = 3\n",
    "viewer.camera.angles = (-10, 10, 150)\n",
    "viewer.camera.zoom = 1.75"
   ]
  },
  {
   "cell_type": "code",
   "execution_count": null,
   "id": "778319df",
   "metadata": {},
   "outputs": [],
   "source": [
    "nbscreenshot(viewer)"
   ]
  },
  {
   "cell_type": "code",
   "execution_count": null,
   "id": "91906e62",
   "metadata": {
    "tags": [
     "remove-cell"
    ]
   },
   "outputs": [],
   "source": [
    "# sleep to allow screenshot to finish before notebook closes\n",
    "from time import sleep\n",
    "sleep(3)"
   ]
  },
  {
   "cell_type": "markdown",
   "id": "6dff34ee",
   "metadata": {},
   "source": [
    "## Conclusions\n",
    "\n",
    "We've now seen how to use napari to visualize 3D images, including looking at 2D slices and the full 3D image. We've also learnt how to change properties of an image layer both from the GUI and from the jupyter notebook.\n",
    "\n",
    "The next lessons will teach us how to create napari layers of other types, perform manual annotations, interactive analyses and more!"
   ]
  }
 ],
 "metadata": {
  "jupytext": {
   "text_representation": {
    "extension": ".md",
    "format_name": "myst",
    "format_version": 0.13,
    "jupytext_version": "1.10.3"
   }
  },
  "kernelspec": {
   "display_name": "Python 3",
   "language": "python",
   "name": "python3"
  },
  "language_info": {
   "codemirror_mode": {
    "name": "ipython",
    "version": 3
   },
   "file_extension": ".py",
   "mimetype": "text/x-python",
   "name": "python",
   "nbconvert_exporter": "python",
   "pygments_lexer": "ipython3",
   "version": "3.9.6"
  },
  "source_map": [
   12,
   58,
   63,
   73,
   77,
   96,
   102,
   106,
   111,
   115,
   121,
   123,
   130,
   138,
   140,
   146,
   151,
   155,
   159,
   166,
   176,
   178,
   182,
   186,
   190,
   192,
   196,
   204,
   208,
   210,
   215,
   221,
   223,
   227,
   237,
   239,
   245,
   253,
   257,
   263
  ]
 },
 "nbformat": 4,
 "nbformat_minor": 5
}