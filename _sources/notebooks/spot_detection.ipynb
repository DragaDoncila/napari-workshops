{
 "cells": [
  {
   "cell_type": "markdown",
   "id": "92508214",
   "metadata": {},
   "source": [
    "# notebook: interactive analysis with jupyter notebook, napari, scikit-image, and scipy\n",
    "\n",
    "## Overview\n",
    "In this activity, we will perform spot detection on some in situ sequencing data ([Feldman and Singh et al., Cell, 2019](https://www.cell.com/cell/fulltext/S0092-8674(19)31067-0s)). In doing so, we will combine methods from [scipy](https://www.scipy.org/) and [scikit-image](https://scikit-image.org/). The goal is to familiarize you with performing analysis that integrates the scientific python ecosystem and napari.\n",
    "\n",
    "## Data source\n",
    "\n",
    "The data were downloaded from the [OpticalPooledScreens github repository](https://github.com/feldman4/OpticalPooledScreens).\n",
    "\n",
    "## Next steps\n",
    "\n",
    "Following this activity, we will use the workflow generated in this activity to create a napari spot detection plugin.\n",
    "\n",
    "## screenshots\n",
    "For the solution notebook, we are including screenshots via the `nbscreenshot` utility. These are not required for your notebook.\n",
    "\n",
    "An example usage: `nbscreenshot(viewer)`"
   ]
  },
  {
   "cell_type": "code",
   "execution_count": null,
   "id": "f6f788d6",
   "metadata": {},
   "outputs": [],
   "source": [
    "from napari.utils import nbscreenshot"
   ]
  },
  {
   "cell_type": "markdown",
   "id": "baaf3228",
   "metadata": {},
   "source": [
    "## Load the data\n",
    "\n",
    "In the cells below load the data using the scikit-image `imread()` function. For more information about the `imread()` function, please see the [scikit-image docs](https://scikit-image.org/docs/dev/api/skimage.io.html#skimage.io.imread). We are loading two images:\n",
    "\n",
    "- `nuclei`: an image of cell nuclei\n",
    "- `spots`: an image of in situ sequencing spots"
   ]
  },
  {
   "cell_type": "code",
   "execution_count": null,
   "id": "1bf4ed5e",
   "metadata": {},
   "outputs": [],
   "source": [
    "from skimage import io\n",
    "\n",
    "nuclei_url = 'https://raw.githubusercontent.com/kevinyamauchi/napari-spot-detection-tutorial/main/data/nuclei_cropped.tif'\n",
    "nuclei = io.imread(nuclei_url)\n",
    "\n",
    "spots_url = 'https://raw.githubusercontent.com/kevinyamauchi/napari-spot-detection-tutorial/main/data/spots_cropped.tif'\n",
    "spots = io.imread(spots_url)"
   ]
  },
  {
   "cell_type": "markdown",
   "id": "49dfaf1c",
   "metadata": {},
   "source": [
    "## View the data\n",
    "\n",
    "We will use napari to view our data. To do so, we first must create the viewer. Once the Viewer is created, we can add images to the viewer via the Viewer's `add_image()` method."
   ]
  },
  {
   "cell_type": "code",
   "execution_count": null,
   "id": "5a9d1655",
   "metadata": {},
   "outputs": [],
   "source": [
    "import napari\n",
    "\n",
    "# create the napari viewer\n",
    "viewer = napari.Viewer();\n",
    "\n",
    "# add the nuclei image to the viewer\n",
    "viewer.add_image(nuclei);"
   ]
  },
  {
   "cell_type": "markdown",
   "id": "d5eb97e7",
   "metadata": {},
   "source": [
    "In the cell below, add the spots image to the viewer as was done above for the nuclei image. After loading the data, inspect it in the viewer and adjust the layer settings to your liking (e.g., contrast limits, colormap). You can pan/zoom around the image by click/dragging to pan and scrolling with your mousewheel or trackpad to zoom."
   ]
  },
  {
   "cell_type": "code",
   "execution_count": null,
   "id": "265d7f32",
   "metadata": {},
   "outputs": [],
   "source": [
    "# add the spots image to the viewer\n",
    "viewer.add_image(spots)"
   ]
  },
  {
   "cell_type": "code",
   "execution_count": null,
   "id": "97279938",
   "metadata": {},
   "outputs": [],
   "source": [
    "nbscreenshot(viewer)"
   ]
  },
  {
   "cell_type": "markdown",
   "id": "4abc2929",
   "metadata": {},
   "source": [
    "## Create an image filter\n",
    "\n",
    "You may have noticed the the spots image contains background and autofluorescence from the cells. To improve spot detection, we will apply a high pass filter to improve the contrast of the spots."
   ]
  },
  {
   "cell_type": "code",
   "execution_count": null,
   "id": "98f395c8",
   "metadata": {},
   "outputs": [],
   "source": [
    "import numpy as np\n",
    "from scipy import ndimage as ndi\n",
    "\n",
    "def gaussian_high_pass(image: np.ndarray, sigma: float = 2):\n",
    "    \"\"\"Apply a gaussian high pass filter to an image.\n",
    "\n",
    "    Parameters\n",
    "    ----------\n",
    "    image : np.ndarray\n",
    "        The image to be filtered.\n",
    "    sigma : float\n",
    "        The sigma (width) of the gaussian filter to be applied.\n",
    "        The default value is 2.\n",
    "    \n",
    "    Returns\n",
    "    -------\n",
    "    high_passed_im : np.ndarray\n",
    "        The image with the high pass filter applied\n",
    "    \"\"\"\n",
    "    low_pass = ndi.gaussian_filter(image, sigma)\n",
    "    high_passed_im = image - low_pass\n",
    "    \n",
    "    return high_passed_im"
   ]
  },
  {
   "cell_type": "markdown",
   "id": "2fdd2482",
   "metadata": {},
   "source": [
    "In the cell below, apply the gaussian high pass filter to the `spots` image and add the image to the viewer."
   ]
  },
  {
   "cell_type": "code",
   "execution_count": null,
   "id": "8b4317f8",
   "metadata": {},
   "outputs": [],
   "source": [
    "# Use the gaussian_high_pass function to filter the spots image\n",
    "filtered_spots = gaussian_high_pass(spots, 2)\n",
    "\n",
    "# add the filtered image to the viewer\n",
    "# hint: set the opacity < 1 in order to see the layers underneath\n",
    "viewer.add_image(filtered_spots, opacity=0.6)"
   ]
  },
  {
   "cell_type": "code",
   "execution_count": null,
   "id": "2b6cb546",
   "metadata": {},
   "outputs": [],
   "source": [
    "nbscreenshot(viewer)"
   ]
  },
  {
   "cell_type": "markdown",
   "id": "e050afff",
   "metadata": {},
   "source": [
    "## Detect spots\n",
    "\n",
    "Next, we will create a function to detect the spots in the spot image. This function should take the raw image, apply the gaussian high pass filter from above and then use one of the blob detection algorithms from sci-kit image to perform the blob detection. The `detect_spots()` function should return a numpy array containing the coordinates of each spot and a numpy array containing the diameter of each spot.\n",
    "\n",
    "Some hints:\n",
    "- See the [blob detection tutorial from scikit-image](https://scikit-image.org/docs/dev/auto_examples/features_detection/plot_blob.html). - We recommend the [blob_log detector](https://scikit-image.org/docs/dev/api/skimage.feature.html#skimage.feature.blob_log), but feel free to experiment!\n",
    "- See the \"Note\" from the blob_log docs: \"The radius of each blob is approximately $\\sqrt{2}\\sigma$ for a 2-D image\""
   ]
  },
  {
   "cell_type": "code",
   "execution_count": null,
   "id": "6ce209b9",
   "metadata": {},
   "outputs": [],
   "source": [
    "import numpy as np\n",
    "from skimage.feature import blob_log\n",
    "\n",
    "def detect_spots(\n",
    "    image: np.ndarray,\n",
    "    high_pass_sigma: float = 2,\n",
    "    spot_threshold: float = 0.01,\n",
    "    blob_sigma: float = 2\n",
    "):\n",
    "    \"\"\"Apply a gaussian high pass filter to an image.\n",
    "\n",
    "    Parameters\n",
    "    ----------\n",
    "    image : np.ndarray\n",
    "        The image in which to detect the spots.\n",
    "    high_pass_sigma : float\n",
    "        The sigma (width) of the gaussian filter to be applied.\n",
    "        The default value is 2.\n",
    "    spot_threshold : float\n",
    "        The threshold to be passed to the blob detector.\n",
    "        The default value is 0.01.\n",
    "    blob_sigma: float\n",
    "        The expected sigma (width) of the spots. This parameter\n",
    "        is passed to the \"max_sigma\" parameter of the blob\n",
    "        detector.\n",
    "    \n",
    "    Returns\n",
    "    -------\n",
    "    points_coords : np.ndarray\n",
    "        An NxD array with the coordinate for each detected spot.\n",
    "        N is the number of spots and D is the number of dimensions.\n",
    "    sizes : np.ndarray\n",
    "        An array of size N, where N is the number of detected spots\n",
    "        with the diameter of each spot.\n",
    "    \n",
    "    \"\"\"\n",
    "    # filter the image\n",
    "    filtered_spots = gaussian_high_pass(image, high_pass_sigma)\n",
    "\n",
    "    # detect the spots on the filtered image\n",
    "    blobs_log = blob_log(\n",
    "        filtered_spots,\n",
    "        max_sigma=blob_sigma,\n",
    "        num_sigma=1,\n",
    "        threshold=spot_threshold\n",
    "    )\n",
    "    \n",
    "    # convert the output of the blob detector to the \n",
    "    # desired points_coords and sizes arrays\n",
    "    # (see the docstring for details)\n",
    "    points_coords = blobs_log[:, 0:2]\n",
    "    sizes = 2 * np.sqrt(2) * blobs_log[:, 2]\n",
    "\n",
    "    return points_coords, sizes"
   ]
  },
  {
   "cell_type": "markdown",
   "id": "b28a9d04",
   "metadata": {},
   "source": [
    "In the cell below, apply `detect_spots()` to our `spots` image. To visualize the results, add the spots to the viewer as a [Points layer](https://napari.org/tutorials/fundamentals/points.html). If you would like to see an example of using a points layer, see [this example](https://github.com/napari/napari/blob/master/examples/add_points.py). To test out your function, vary the detection parameters and see how they affect the results. Note that each time you run the cell, the new results are added as an addition Points layer, allowing you to compare results from different parameters."
   ]
  },
  {
   "cell_type": "code",
   "execution_count": null,
   "id": "c334c539",
   "metadata": {},
   "outputs": [],
   "source": [
    "    # detect the spots\n",
    "spot_coords, spot_sizes = detect_spots(\n",
    "    spots,\n",
    "    high_pass_sigma=2,\n",
    "    spot_threshold=0.01,\n",
    "    blob_sigma=2\n",
    ")\n",
    "\n",
    "# add the detected spots to the viewer as a Points layer\n",
    "viewer.add_points(spot_coords, size=spot_sizes, symbol='ring')"
   ]
  },
  {
   "cell_type": "code",
   "execution_count": null,
   "id": "8727726e",
   "metadata": {},
   "outputs": [],
   "source": [
    "nbscreenshot(viewer)"
   ]
  },
  {
   "cell_type": "markdown",
   "id": "ef40647a",
   "metadata": {},
   "source": [
    "## Conclusion\n",
    "In this activity, we have interactively prototyped a spot detection function using a combination of jupyter notebook, scipy, scikit-image, and napari. In the next activity, we will take the spot detection function we created and turn it into a napari plugin."
   ]
  }
 ],
 "metadata": {
  "jupytext": {
   "text_representation": {
    "extension": ".md",
    "format_name": "myst",
    "format_version": 0.13,
    "jupytext_version": "1.10.3"
   }
  },
  "kernelspec": {
   "display_name": "Python 3",
   "language": "python",
   "name": "python3"
  },
  "source_map": [
   12,
   32,
   34,
   43,
   51,
   57,
   65,
   69,
   74,
   76,
   82,
   106,
   110,
   119,
   121,
   131,
   187,
   191,
   204,
   206
  ]
 },
 "nbformat": 4,
 "nbformat_minor": 5
}