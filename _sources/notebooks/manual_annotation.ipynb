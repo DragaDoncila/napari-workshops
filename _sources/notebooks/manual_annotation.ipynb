{
 "cells": [
  {
   "cell_type": "markdown",
   "id": "e0e55fdd",
   "metadata": {},
   "source": [
    "# notebook: manual annotation\n",
    "\n",
    "One of the common bioimage analysis tasks in manual annotation. This annotation could be to provide ground truth data for a machine learning algorithm or quality control for automated process.\n",
    "\n",
    "There are 3 main types of manual annotation that napari provides, each corresponding to a different layer type\n",
    "- adding points to mark particular locations in an image with the **Points** layer\n",
    "- drawing 2D polygons to identify particular regions of interest with the **Shapes** layer\n",
    "- painting labels to provide a pixel-wise annotation of an image with the **Labels** layer\n",
    "\n",
    "This tutorial will explore these three manual annotations in **[napari](https://napari.org/)**, using that same data from the image visualization tutorial.\n",
    "\n",
    "\n",
    "## Setup\n",
    "We start by importing `napari`, our `nbscreenshot` utility and instantiating an empty viewer"
   ]
  },
  {
   "cell_type": "code",
   "execution_count": null,
   "id": "0e1b34f5",
   "metadata": {
    "tags": [
     "remove-output"
    ]
   },
   "outputs": [],
   "source": [
    "import napari\n",
    "from napari.utils import nbscreenshot\n",
    "\n",
    "viewer = napari.Viewer()"
   ]
  },
  {
   "cell_type": "markdown",
   "id": "bdabe24a",
   "metadata": {},
   "source": [
    "In this notebook we will load our data directly into napari using out builtin plugin reader"
   ]
  },
  {
   "cell_type": "code",
   "execution_count": null,
   "id": "fd3486c5",
   "metadata": {
    "tags": [
     "remove-output"
    ]
   },
   "outputs": [],
   "source": [
    "viewer.open('data/nuclei.tif')"
   ]
  },
  {
   "cell_type": "markdown",
   "id": "baa27c65",
   "metadata": {},
   "source": [
    "This loads the 3D data into the napari viewer. \n",
    "Scrolling to the 30th z-slice should look as follows:"
   ]
  },
  {
   "cell_type": "code",
   "execution_count": null,
   "id": "44761123",
   "metadata": {
    "tags": [
     "remove-cell"
    ]
   },
   "outputs": [],
   "source": [
    "viewer.dims.current_step = (30, 0, 0)"
   ]
  },
  {
   "cell_type": "code",
   "execution_count": null,
   "id": "cbe1e0d3",
   "metadata": {},
   "outputs": [],
   "source": [
    "nbscreenshot(viewer)"
   ]
  },
  {
   "cell_type": "markdown",
   "id": "f91e2879",
   "metadata": {},
   "source": [
    "## Annotating dividing and non-dividing cells using the points layer\n",
    "\n",
    "One simple task that a biologist or bioimage analyst might be interseted in annotating each cell as diving or non-dividng.\n",
    "\n",
    "In order to do this we are going to add two points layers to the viewer, one called `dividing` and one called `non-dividing` and set some basic properties on these layers.\n",
    "\n",
    "You can add the layers using the new points button in the middle of the left panel of the viewer (left-most button featuring with many small dots), or you can add them programatically from the viewer. We'll add them programatically from the viewer for this example."
   ]
  },
  {
   "cell_type": "code",
   "execution_count": null,
   "id": "3fcaef1a",
   "metadata": {},
   "outputs": [],
   "source": [
    "# add the first points layer for dividing cells\n",
    "viewer.add_points(name='dividing', face_color='red', n_dimensional=True, ndim=3);\n",
    "\n",
    "# add the second points layer for non-dividing cells\n",
    "viewer.add_points(name='non-dividing', face_color='blue', n_dimensional=True, ndim=3);"
   ]
  },
  {
   "cell_type": "markdown",
   "id": "603999ce",
   "metadata": {},
   "source": [
    "Notice now how two new layers have been created, and that these layers have different controls (top-left corner) compared to the image layer. These layers now have properties like `face color`, `point size`, and `symbol` that can be adjusted. Note we have also enabled something called `n_dimensional` mode for these `Points` layers. This setting will be the points an `n-dimensional` extent when scrolling through z-planes and is useful when looking at 3D data."
   ]
  },
  {
   "cell_type": "code",
   "execution_count": null,
   "id": "c6259fed",
   "metadata": {},
   "outputs": [],
   "source": [
    "nbscreenshot(viewer)"
   ]
  },
  {
   "cell_type": "markdown",
   "id": "011f20a3",
   "metadata": {},
   "source": [
    "To add points you must enter add mode. This can be done by clicking on the add mode button in the top row of the control panel (2nd from the left, circle with a plus in it), or programatically from the notebook."
   ]
  },
  {
   "cell_type": "code",
   "execution_count": null,
   "id": "fde219ea",
   "metadata": {},
   "outputs": [],
   "source": [
    "# programatically enter add mode for both Points layers to enable editing\n",
    "viewer.layers['dividing'].mode = 'add'\n",
    "viewer.layers['non-dividing'].mode = 'add'"
   ]
  },
  {
   "cell_type": "code",
   "execution_count": null,
   "id": "898a38c2",
   "metadata": {},
   "outputs": [],
   "source": [
    "nbscreenshot(viewer)"
   ]
  },
  {
   "cell_type": "markdown",
   "id": "459372d5",
   "metadata": {},
   "source": [
    "Now start adding points, clicking once per cell, approximately in the center of the cell, with the appropriate `Points` layer selected. You can tell which `Points` layer is selected because it will be highlighted left in the layers list in the bottom left hand corner of the screen. You can rapidly switch between selected layers using the up and down keys. Also don't forget this is a z-slice so you should move up and down the slice, which can also be done with the left/ right key.\n",
    "\n",
    "After annotation, my data looks as follows:"
   ]
  },
  {
   "cell_type": "code",
   "execution_count": null,
   "id": "1745982e",
   "metadata": {
    "tags": [
     "remove-cell"
    ]
   },
   "outputs": [],
   "source": [
    "viewer.layers['dividing'].add([30, 88.1365794 , 54.39650486])\n",
    "viewer.layers['non-dividing'].add(\n",
    "      [[30,  13.90840911,  27.02955319],\n",
    "       [30,  32.27800681,  82.51323603],\n",
    "       [30,  11.28418087, 148.86872159],\n",
    "       [30,  46.52381727, 182.60879899],\n",
    "       [30,  73.89076894, 108.3806287 ],\n",
    "       [30,  96.00926413, 160.11541406],\n",
    "       [30,  47.64848652, 226.09600987],\n",
    "       [30, 142.12070325, 186.73258623],\n",
    "       [30, 145.86960074, 242.59115882],\n",
    "       [30, 200.97839383, 173.61144502],\n",
    "       [30, 154.49206496, 112.87930569],\n",
    "       [30, 135.74757752,  39.77580465],\n",
    "       [30, 182.60879613,  52.14716636],\n",
    "       [30, 221.97221977,  82.13834628],\n",
    "       [30, 241.09159696, 136.12247012],\n",
    "       [30, 250.46384069, 209.60086091]]\n",
    "   )"
   ]
  },
  {
   "cell_type": "code",
   "execution_count": null,
   "id": "88da04fd",
   "metadata": {},
   "outputs": [],
   "source": [
    "nbscreenshot(viewer)"
   ]
  },
  {
   "cell_type": "markdown",
   "id": "62af7b60",
   "metadata": {},
   "source": [
    "Or in 3D, which can be enabled by clicking 3D rendering button (which looks like a wireframe of a cube, second from the left) like this:"
   ]
  },
  {
   "cell_type": "code",
   "execution_count": null,
   "id": "41e03966",
   "metadata": {
    "tags": [
     "remove-cell"
    ]
   },
   "outputs": [],
   "source": [
    "viewer.dims.ndisplay = 3\n",
    "viewer.camera.angles = (-10, 30, 135)"
   ]
  },
  {
   "cell_type": "code",
   "execution_count": null,
   "id": "c9f6ad54",
   "metadata": {},
   "outputs": [],
   "source": [
    "nbscreenshot(viewer)"
   ]
  },
  {
   "cell_type": "markdown",
   "id": "66bffd2c",
   "metadata": {},
   "source": [
    "You can also get the number of cells of each class and an array of their centers as follows:"
   ]
  },
  {
   "cell_type": "code",
   "execution_count": null,
   "id": "1ead37b7",
   "metadata": {},
   "outputs": [],
   "source": [
    "print('Number of diving cells:', len(viewer.layers['dividing'].data))\n",
    "print('Number of non-diving cells:', len(viewer.layers['non-dividing'].data))"
   ]
  },
  {
   "cell_type": "code",
   "execution_count": null,
   "id": "d898c02a",
   "metadata": {},
   "outputs": [],
   "source": [
    "# Locations of non-dividing cells\n",
    "viewer.layers['non-dividing'].data"
   ]
  },
  {
   "cell_type": "markdown",
   "id": "908dffea",
   "metadata": {},
   "source": [
    "To save a `csv` file with these values for each layer you can use our builtin writer functionality. Note these csv files can easily be opened up into standard tools like pandas or excel for further analysis."
   ]
  },
  {
   "cell_type": "code",
   "execution_count": null,
   "id": "7feb27dd",
   "metadata": {},
   "outputs": [],
   "source": [
    "# Save out Points layer data to a csv file\n",
    "viewer.layers['dividing'].save('dividing.csv', plugin='builtins')\n",
    "viewer.layers['non-dividing'].save('non-dividing.csv', plugin='builtins')"
   ]
  },
  {
   "cell_type": "markdown",
   "id": "47f02e90",
   "metadata": {},
   "source": [
    "Points layers also have a properties dictionary that would enable you to add other attributes like `volume` or `maximum-intensity` should you calculate those for each cell. You can learn more about the these advanced points annotations from the [tutorial](https://napari.org/tutorials/applications/annotate_points).\n",
    "\n",
    "\n",
    "## Drawing polygons around cells\n",
    "Another common task for research biologists and bioimage analysts is drawing polygons around regions of interest, in this case nuclei. These polygons might be used for segmentation and to quantify properties of interest.\n",
    "\n",
    "For this example we'll work with a 2D maximum intensity projection of our cells in order to keep things simple. We can take the data we've already loaded into napari and use it for the projection."
   ]
  },
  {
   "cell_type": "code",
   "execution_count": null,
   "id": "ff4b6178",
   "metadata": {},
   "outputs": [],
   "source": [
    "# Take the maximum intensity projection of the cells\n",
    "nuclei_mip = viewer.layers['nuclei'].data.max(axis=0)"
   ]
  },
  {
   "cell_type": "code",
   "execution_count": null,
   "id": "77a3762a",
   "metadata": {},
   "outputs": [],
   "source": [
    "# Remove select and remove all the current layers from the viewer\n",
    "viewer.layers.select_all()\n",
    "viewer.layers.remove_selected()\n",
    "\n",
    "# Add in the maximum intensity projection\n",
    "viewer.add_image(nuclei_mip);"
   ]
  },
  {
   "cell_type": "code",
   "execution_count": null,
   "id": "2cd75a2f",
   "metadata": {},
   "outputs": [],
   "source": [
    "nbscreenshot(viewer)"
   ]
  },
  {
   "cell_type": "markdown",
   "id": "f55b7e0b",
   "metadata": {},
   "source": [
    "We can now add an empty new shapes layer from the GUI using the new shapes button (middle of the left panel, 2nd from the left with a polygon on it) or programatically from the notebook."
   ]
  },
  {
   "cell_type": "code",
   "execution_count": null,
   "id": "fbe0a9c1",
   "metadata": {
    "tags": [
     "remove-cell"
    ]
   },
   "outputs": [],
   "source": [
    "viewer.dims.ndisplay = 2"
   ]
  },
  {
   "cell_type": "code",
   "execution_count": null,
   "id": "65d04815",
   "metadata": {},
   "outputs": [],
   "source": [
    "viewer.add_shapes(name='nuclei outlines', face_color='red', edge_color='white', opacity=0.7)"
   ]
  },
  {
   "cell_type": "markdown",
   "id": "bcbdf1f0",
   "metadata": {},
   "source": [
    "Notice now in top left corner of the viewer we have a new controls panel corresponding to the shapes layer with buttons for creating and editing shapes. They include a select mode for dragging and resizing shapes, a vertex selection mode for dragging vertices, tools for adding and subtracting vertices from existing shapes, buttons for reordering shapes, and tools for drawing lines, ellipses, rectangles, paths, and polygons."
   ]
  },
  {
   "cell_type": "code",
   "execution_count": null,
   "id": "237a0fcd",
   "metadata": {},
   "outputs": [],
   "source": [
    "nbscreenshot(viewer)"
   ]
  },
  {
   "cell_type": "markdown",
   "id": "73eafa9f",
   "metadata": {},
   "source": [
    "We will draw some shapes with the polygon tool around a couple of different nuclei."
   ]
  },
  {
   "cell_type": "code",
   "execution_count": null,
   "id": "fad5b0f0",
   "metadata": {
    "tags": [
     "remove-cell"
    ]
   },
   "outputs": [],
   "source": [
    "p1 = [[142.12070325,  94.13481824],\n",
    "      [150.36827772,  89.26125151],\n",
    "      [163.86430869,  87.76169251],\n",
    "      [179.98456789, 100.88283373],\n",
    "      [182.98368588, 113.25419544],\n",
    "      [173.98633191, 124.87577766],\n",
    "      [163.86430869, 133.87313163],\n",
    "      [148.49382898, 135.37269063],\n",
    "      [137.99691601, 128.2497854 ],\n",
    "      [132.74845952, 116.25331343],\n",
    "      [134.24801852, 103.50706197]]\n",
    "p2 = [[ 87.01191015, 140.24625736],\n",
    "      [ 97.13393338, 136.49735987],\n",
    "      [109.50529509, 140.24625736],\n",
    "      [118.12775932, 149.99339083],\n",
    "      [120.37709781, 163.4894218 ],\n",
    "      [114.75375158, 174.73611426],\n",
    "      [104.25683861, 181.48412974],\n",
    "      [ 93.75992564, 184.10835799],\n",
    "      [ 80.26389467, 179.609681  ],\n",
    "      [ 73.89076894, 166.11365004],\n",
    "      [ 74.26565869, 152.24272933],\n",
    "      [ 78.38944593, 145.1198241 ]]\n",
    "p3 = [[ 48.02337627, 108.3806287 ],\n",
    "      [ 48.02337627,  97.13393624],\n",
    "      [ 58.52028924,  88.88636176],\n",
    "      [ 69.39209195,  86.26213352],\n",
    "      [ 83.26301267,  92.63525925],\n",
    "      [ 94.50970513, 105.38151071],\n",
    "      [ 98.25860262, 121.50176992],\n",
    "      [ 93.01014614, 133.12335213],\n",
    "      [ 80.26389467, 136.12247012],\n",
    "      [ 67.51764321, 131.24890339],\n",
    "      [ 53.6467225 , 123.00132891]]\n",
    "\n",
    "viewer.layers['nuclei outlines'].add_polygons([p1, p2, p3])\n",
    "\n",
    "# direct mode for vertex selection\n",
    "viewer.layers.mode = 'direct'\n",
    "\n",
    "# select and force redraw\n",
    "viewer.layers['nuclei outlines'].selected_data = {2}\n",
    "viewer.layers['nuclei outlines'].refresh()"
   ]
  },
  {
   "cell_type": "code",
   "execution_count": null,
   "id": "08aba13c",
   "metadata": {},
   "outputs": [],
   "source": [
    "nbscreenshot(viewer)"
   ]
  },
  {
   "cell_type": "markdown",
   "id": "fffc5d62",
   "metadata": {},
   "source": [
    "The vertices for these shapes can be obtained from the shapes layer as follows:"
   ]
  },
  {
   "cell_type": "code",
   "execution_count": null,
   "id": "ef5dc2e8",
   "metadata": {},
   "outputs": [],
   "source": [
    "# The list of vertices for each shape\n",
    "viewer.layers['nuclei outlines'].data"
   ]
  },
  {
   "cell_type": "markdown",
   "id": "9e8bde47",
   "metadata": {},
   "source": [
    "These shapes, and the underlying image can be saved as an svg file using our dedicated svg writer. This functionality is useful if you want to put the image and the shapes into a tool like illustrator when preparing a figure or a presentation."
   ]
  },
  {
   "cell_type": "code",
   "execution_count": null,
   "id": "eea49d0d",
   "metadata": {},
   "outputs": [],
   "source": [
    "viewer.layers.save('nuclei-outlines.svg', plugin='svg')"
   ]
  },
  {
   "cell_type": "markdown",
   "id": "b07e953e",
   "metadata": {},
   "source": [
    "Similarly to the points layer, we're working on adding support for properties dictionary to the shapes layer which would allow you to assign attributes to each shape and do things like adjust shape color based on them.\n",
    "\n",
    "One common thing to use a shapes for is creating a binary mask or labels image where each pixel is assigned an integer label of the shape it is contained within, if any. napari provides some tooling to make these conversions easy."
   ]
  },
  {
   "cell_type": "code",
   "execution_count": null,
   "id": "3577ba40",
   "metadata": {},
   "outputs": [],
   "source": [
    "# Convert the polygons into labels\n",
    "shape = viewer.layers['nuclei_mip'].data.shape\n",
    "nuclei_labels = viewer.layers['nuclei outlines'].to_labels(labels_shape=shape)\n",
    "\n",
    "print('Number of labels:', nuclei_labels.max())"
   ]
  },
  {
   "cell_type": "markdown",
   "id": "2c20f6eb",
   "metadata": {},
   "source": [
    "We can now add this labels image to the viewer as a labels layer."
   ]
  },
  {
   "cell_type": "code",
   "execution_count": null,
   "id": "1ca6ecd2",
   "metadata": {},
   "outputs": [],
   "source": [
    "# Add the cell segmenation labels as a labels layer\n",
    "viewer.add_labels(nuclei_labels);\n",
    "\n",
    "# Turn off the visibility of the shapes layer so as not to get confused\n",
    "viewer.layers['nuclei outlines'].visible = False"
   ]
  },
  {
   "cell_type": "code",
   "execution_count": null,
   "id": "4a833941",
   "metadata": {},
   "outputs": [],
   "source": [
    "nbscreenshot(viewer)"
   ]
  },
  {
   "cell_type": "markdown",
   "id": "4635736e",
   "metadata": {},
   "source": [
    "## Painting labels for pixel-wise annotations\n",
    "\n",
    "With the labels layer we can now make pixel-wise annotaions using a paintbrush, fill bucket, and eraser tools (see the row of buttons in the control panel in the top left of the viewer).\n",
    "\n",
    "Using these tools we can touch up any of the labels that we got from our polygon masks or draw entirely new ones."
   ]
  },
  {
   "cell_type": "code",
   "execution_count": null,
   "id": "dac04f5d",
   "metadata": {
    "tags": [
     "remove-cell"
    ]
   },
   "outputs": [],
   "source": [
    "# dilate labels a bit to show a change\n",
    "from skimage.morphology import dilation\n",
    "viewer.layers['nuclei_labels'].data = dilation(viewer.layers['nuclei_labels'].data)"
   ]
  },
  {
   "cell_type": "code",
   "execution_count": null,
   "id": "c1bb5f28",
   "metadata": {},
   "outputs": [],
   "source": [
    "nbscreenshot(viewer)"
   ]
  },
  {
   "cell_type": "code",
   "execution_count": null,
   "id": "7b5f3f9c",
   "metadata": {},
   "outputs": [],
   "source": [
    "# Save out the nuclei labels as a tiff file\n",
    "viewer.layers['nuclei_labels'].save('nuclei-labels.tif', plugin='builtins');"
   ]
  },
  {
   "cell_type": "code",
   "execution_count": null,
   "id": "9ea3b006",
   "metadata": {},
   "outputs": [],
   "source": [
    "# Note that the cell labels could be reloaded into the viewer as follows\n",
    "viewer.open('nuclei-labels.tif', name='saved nuclei', plugin='builtins');\n",
    "\n",
    "viewer.layers['nuclei_labels'].visible = False"
   ]
  },
  {
   "cell_type": "code",
   "execution_count": null,
   "id": "95890efa",
   "metadata": {},
   "outputs": [],
   "source": [
    "nbscreenshot(viewer)"
   ]
  },
  {
   "cell_type": "markdown",
   "id": "56d5688b",
   "metadata": {},
   "source": [
    "One simple thing someone might want to do is quantify the total amount of signal inside our original image relative to the total amount of area for each of our labels. Using some simple Python we can do this as follows:"
   ]
  },
  {
   "cell_type": "code",
   "execution_count": null,
   "id": "ccbde211",
   "metadata": {},
   "outputs": [],
   "source": [
    "n_labels = viewer.layers['nuclei_labels'].data.max()\n",
    "\n",
    "ratios = []\n",
    "for label_id in range(n_labels):\n",
    "    inside_pixels = viewer.layers['nuclei_labels'].data == label_id\n",
    "    area = inside_pixels.sum()\n",
    "    signal = viewer.layers['nuclei_mip'].data[inside_pixels].sum()\n",
    "    ratios.append(signal / area)\n",
    "    \n",
    "print('Signal per unit area for our labels:', ratios)"
   ]
  },
  {
   "cell_type": "markdown",
   "id": "a8234c53",
   "metadata": {},
   "source": [
    "As with the points and shapes layers we also have a properties dictionary on the labels layer to make it easy to attach extra attributes to each labeled region.\n",
    "\n",
    "## Conclusions\n",
    "\n",
    "We've now seen how to use the **Points**, **Shapes**, and **Labels** layers to produce manual annotations in napari and save those annotations in meaningful formats.\n",
    "\n",
    "The next lessons will teach us how to perform interactive analyses in napari and more!"
   ]
  }
 ],
 "metadata": {
  "jupytext": {
   "text_representation": {
    "extension": ".md",
    "format_name": "myst",
    "format_version": 0.13,
    "jupytext_version": "1.10.3"
   }
  },
  "kernelspec": {
   "display_name": "Python 3",
   "language": "python",
   "name": "python3"
  },
  "source_map": [
   12,
   29,
   36,
   40,
   44,
   48,
   54,
   56,
   66,
   72,
   76,
   78,
   82,
   88,
   90,
   96,
   120,
   122,
   126,
   133,
   135,
   139,
   144,
   147,
   151,
   155,
   165,
   170,
   179,
   181,
   185,
   191,
   193,
   197,
   199,
   203,
   252,
   254,
   258,
   261,
   265,
   267,
   273,
   279,
   283,
   291,
   293,
   301,
   309,
   313,
   318,
   325,
   327,
   331,
   342
  ]
 },
 "nbformat": 4,
 "nbformat_minor": 5
}